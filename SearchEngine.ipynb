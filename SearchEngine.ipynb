{
 "cells": [
  {
   "cell_type": "code",
   "execution_count": 1,
   "metadata": {},
   "outputs": [
    {
     "name": "stdout",
     "output_type": "stream",
     "text": [
      "                   93                  62                  84  \\\n",
      "0  0.8141324876155975  0.8136374981871781  0.7985031119428032   \n",
      "\n",
      "                   26                  5   \n",
      "0  0.7934618325132308  0.7887599746141429  \n"
     ]
    }
   ],
   "source": [
    "import numpy as np\n",
    "import pandas as pd\n",
    "import sklearn.metrics.pairwise as sl\n",
    "\n",
    "def SimilarItem(target_embeding,dataset_embedings):\n",
    "    value_similarity=pd.DataFrame()\n",
    "    for i in range (len(dataset_embedings.columns)):\n",
    "        temp=sl.cosine_similarity(target_embeding.values.reshape(1,-1), dataset_embedings[i].values.reshape(1,-1))\n",
    "        value_similarity[i]=[np.squeeze(temp)]\n",
    "    value_similarity=pd.DataFrame(value_similarity).sort_values(by=0,axis=1,ascending=False)\n",
    "    return value_similarity.iloc[:,:5]\n",
    "#dataset_embedings=pd.DataFrame(np.random.rand(128,100))\n",
    "#target_embeding=pd.DataFrame(np.random.rand(128,1))\n",
    "#value=SimilarItem(target_embeding,dataset_embedings)"
   ]
  },
  {
   "cell_type": "code",
   "execution_count": null,
   "metadata": {},
   "outputs": [],
   "source": []
  }
 ],
 "metadata": {
  "kernelspec": {
   "display_name": "Python 3",
   "language": "python",
   "name": "python3"
  },
  "language_info": {
   "codemirror_mode": {
    "name": "ipython",
    "version": 3
   },
   "file_extension": ".py",
   "mimetype": "text/x-python",
   "name": "python",
   "nbconvert_exporter": "python",
   "pygments_lexer": "ipython3",
   "version": "3.8.3"
  }
 },
 "nbformat": 4,
 "nbformat_minor": 4
}
