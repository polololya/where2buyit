{
 "cells": [
  {
   "cell_type": "code",
   "execution_count": null,
   "outputs": [],
   "source": [
    "from src.DatasetHandler import DatasetHandler\n",
    "\n",
    "DATASET_DIR = '../Data/Stanford_Online_Products/'"
   ],
   "metadata": {
    "collapsed": false,
    "pycharm": {
     "name": "#%%\n"
    }
   }
  },
  {
   "cell_type": "code",
   "execution_count": null,
   "outputs": [],
   "source": [
    "from src.Model import EmbeddingModel\n",
    "from tensorflow.keras.optimizers import Adam\n",
    "\n",
    "IMAGE_SHAPE = (128, 128)\n",
    "\n",
    "model = EmbeddingModel(IMAGE_SHAPE)"
   ],
   "metadata": {
    "collapsed": false,
    "pycharm": {
     "name": "#%%\n"
    }
   }
  },
  {
   "cell_type": "code",
   "execution_count": null,
   "outputs": [],
   "source": [
    "EPOCHS = 30\n",
    "full_history = list()\n",
    "for epoch in range(EPOCHS):\n",
    "    print(f'Эпоха {epoch + 1}')\n",
    "    data_handler = DatasetHandler(dataset_dir=DATASET_DIR, batch_size=32, target_shape=IMAGE_SHAPE, dataset_part=0.2)\n",
    "    train_data = data_handler.get_training_data()\n",
    "    val_data = data_handler.get_validation_data()\n",
    "    history = model.train(train_data=train_data, val_data=val_data, optimizer=Adam(0.0001), epoch_num=1)\n",
    "    full_history.append(history)"
   ],
   "metadata": {
    "collapsed": false,
    "pycharm": {
     "name": "#%%\n"
    }
   }
  },
  {
   "cell_type": "code",
   "execution_count": null,
   "outputs": [],
   "source": [
    "embedding = model.get_embedding()"
   ],
   "metadata": {
    "collapsed": false,
    "pycharm": {
     "name": "#%%\n"
    }
   }
  },
  {
   "cell_type": "code",
   "execution_count": null,
   "outputs": [],
   "source": [
    "embedding.save(\"embedding_model.h5\", save_format=\"h5\")"
   ],
   "metadata": {
    "collapsed": false,
    "pycharm": {
     "name": "#%%\n"
    }
   }
  }
 ],
 "metadata": {
  "accelerator": "GPU",
  "colab": {
   "collapsed_sections": [],
   "name": "it will be a script.ipynb",
   "provenance": []
  },
  "kernelspec": {
   "display_name": "Python 3",
   "language": "python",
   "name": "python3"
  },
  "language_info": {
   "codemirror_mode": {
    "name": "ipython",
    "version": 3
   },
   "file_extension": ".py",
   "mimetype": "text/x-python",
   "name": "python",
   "nbconvert_exporter": "python",
   "pygments_lexer": "ipython3",
   "version": "3.9.5"
  }
 },
 "nbformat": 4,
 "nbformat_minor": 1
}