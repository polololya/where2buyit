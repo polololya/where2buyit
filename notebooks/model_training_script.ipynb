{
 "cells": [
  {
   "cell_type": "code",
   "execution_count": 2,
   "metadata": {
    "id": "MBXi2Tqp88zt"
   },
   "outputs": [],
   "source": [
    "from DatasetHandler import DatasetHandler\n",
    "from Model import EmbeddingModel\n",
    "\n",
    "DATASET_DIR = '/Stanford_Online_Products/'\n",
    "\n",
    "data_handler = DatasetHandler(dataset_dir=DATASET_DIR)\n",
    "model = EmbeddingModel(data_handler.get_target_shape())\n",
    "\n",
    "train_data = data_handler.get_training_data()\n",
    "val_data = data_handler.get_validation_data()\n",
    "\n",
    "model.train(train_data=train_data, val_data=val_data)\n",
    "\n",
    "embedding = model.get_embedding()\n",
    "embedding.save(\"embedding_model\", save_format=\"h5\")"
   ]
  }
 ],
 "metadata": {
  "accelerator": "GPU",
  "colab": {
   "collapsed_sections": [],
   "name": "it will be a script.ipynb",
   "provenance": []
  },
  "kernelspec": {
   "display_name": "Python 3",
   "language": "python",
   "name": "python3"
  },
  "language_info": {
   "codemirror_mode": {
    "name": "ipython",
    "version": 3
   },
   "file_extension": ".py",
   "mimetype": "text/x-python",
   "name": "python",
   "nbconvert_exporter": "python",
   "pygments_lexer": "ipython3",
   "version": "3.8.5"
  }
 },
 "nbformat": 4,
 "nbformat_minor": 1
}
