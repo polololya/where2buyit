{
  "nbformat": 4,
  "nbformat_minor": 0,
  "metadata": {
    "colab": {
      "name": "model_with_data_processing.ipynb",
      "provenance": [],
      "collapsed_sections": [],
      "toc_visible": true
    },
    "kernelspec": {
      "name": "python3",
      "display_name": "Python 3"
    },
    "language_info": {
      "name": "python"
    },
    "accelerator": "GPU"
  },
  "cells": [
    {
      "cell_type": "code",
      "metadata": {
        "id": "xgViewdw4Fw1"
      },
      "source": [
        "import matplotlib.pyplot as plt\n",
        "import numpy as np\n",
        "import os\n",
        "import random\n",
        "import tensorflow as tf\n",
        "from pathlib import Path\n",
        "from tensorflow.keras import applications\n",
        "from tensorflow.keras import layers\n",
        "from tensorflow.keras import losses\n",
        "from tensorflow.keras import optimizers\n",
        "from tensorflow.keras import metrics\n",
        "from tensorflow.keras import Model\n",
        "from tensorflow.keras.applications import resnet\n",
        "\n",
        "root_dir = \"shopee-product-matching/\"\n",
        "target_shape = (400, 400)"
      ],
      "execution_count": null,
      "outputs": []
    },
    {
      "cell_type": "code",
      "metadata": {
        "id": "bkVzfIDJBXhy"
      },
      "source": [
        "import matplotlib.pyplot as plt\n",
        "\n",
        "import numpy as np\n",
        "import pandas as pd\n",
        "\n",
        "import tensorflow.keras as keras\n",
        "import tensorflow as tf\n",
        "\n",
        "from sklearn.model_selection import GroupShuffleSplit\n",
        "from sklearn.utils import shuffle\n",
        "from sklearn.model_selection import train_test_split\n",
        "\n",
        "from tensorflow.keras.preprocessing.image import load_img, img_to_array"
      ],
      "execution_count": null,
      "outputs": []
    },
    {
      "cell_type": "code",
      "metadata": {
        "id": "smLl-W064ead"
      },
      "source": [
        "import io, os\n",
        "import numpy as np\n",
        "import pandas as pd\n",
        "\n",
        "import tensorflow.keras as keras\n",
        "import tensorflow as tf\n",
        "#import tensorflow_datasets as tfds\n",
        "from keras_preprocessing.image import ImageDataGenerator\n",
        "from tensorflow.keras.preprocessing import image\n",
        "from tensorflow.keras.applications.resnet50 import preprocess_input, decode_predictions"
      ],
      "execution_count": null,
      "outputs": []
    },
    {
      "cell_type": "code",
      "metadata": {
        "id": "9GOcpZKy9CK_"
      },
      "source": [
        "!pip uninstall -y kaggle\n",
        "!pip install --upgrade pip\n",
        "!pip install kaggle==1.5.6"
      ],
      "execution_count": null,
      "outputs": []
    },
    {
      "cell_type": "code",
      "metadata": {
        "id": "C-b3RGXf4pdl"
      },
      "source": [
        "!pwd\n",
        "!mkdir ~/.kaggle\n",
        "!echo '{\"username\":\"polololya\",\"key\":\"1f4ad1fc8a1535e236393da48a325aa8\"}' > ~/.kaggle/kaggle.json\n",
        "!chmod 600 ~/.kaggle/kaggle.json\n",
        "!cat ~/.kaggle/kaggle.json"
      ],
      "execution_count": null,
      "outputs": []
    },
    {
      "cell_type": "code",
      "metadata": {
        "id": "WyMwJIVD4r__"
      },
      "source": [
        "!kaggle competitions download -c shopee-product-matching\n",
        "!mkdir shopee-product-matching\n",
        "!unzip -qq shopee-product-matching.zip -d shopee-product-matching"
      ],
      "execution_count": null,
      "outputs": []
    },
    {
      "cell_type": "code",
      "metadata": {
        "id": "UoXMQy9xkOY7"
      },
      "source": [
        "def preprocess_image(filename):\n",
        "    \"\"\"\n",
        "    Load the specified file as a JPEG image, preprocess it and\n",
        "    resize it to the target shape.\n",
        "    \"\"\"\n",
        "\n",
        "    image_string = tf.io.read_file(filename)\n",
        "    image = tf.image.decode_jpeg(image_string, channels=3)\n",
        "    image = tf.image.convert_image_dtype(image, tf.float32)\n",
        "    image = tf.image.resize(image, target_shape)\n",
        "    return image\n",
        "\n",
        "\n",
        "def preprocess_triplets(anchor, positive, negative):\n",
        "    \"\"\"\n",
        "    Given the filenames corresponding to the three images, load and\n",
        "    preprocess them.\n",
        "    \"\"\"\n",
        "\n",
        "    return (\n",
        "        preprocess_image(anchor),\n",
        "        preprocess_image(positive),\n",
        "        preprocess_image(negative),\n",
        "    )"
      ],
      "execution_count": null,
      "outputs": []
    },
    {
      "cell_type": "code",
      "metadata": {
        "id": "5x65X3pXK2ma"
      },
      "source": [
        "class DatasetHandler:\n",
        "    def __init__(self, df_path, img_dir, validation_split=0.2):\n",
        "        all_train_df = pd.read_csv(df_path)\n",
        "        all_train_df['image'] = img_dir + all_train_df['image']\n",
        "        self.isEmpty = True\n",
        "        self.df = all_train_df\n",
        "       # self.train_df = pd.DataFrame()\n",
        "       # self.val_df = pd.DataFrame()\n",
        "        self.train_df = tf.data.Dataset\n",
        "        self.val_df = tf.data.Dataset\n",
        "        self.validation_split = validation_split\n",
        "        \n",
        "    def form_triplet(self, ind):\n",
        "        anchor = self.df.iloc[ind]\n",
        "        similar = self.df[self.df[\"label_group\"] == anchor[\"label_group\"]][self.df[\"posting_id\"] != anchor[\"posting_id\"]].index\n",
        "        different = self.df[self.df[\"label_group\"] != anchor[\"label_group\"]].index\n",
        "        \n",
        "        positive = self.df.loc[np.random.choice(similar)]\n",
        "        negative = self.df.loc[np.random.choice(different)]\n",
        "            \n",
        "        return(anchor, positive, negative)\n",
        "        \n",
        "    def generate_triplets(self):\n",
        "        #triplets = {'anchors': [], 'positive': [], 'negative': []}\n",
        "        anchors = []\n",
        "        positive = []\n",
        "        negative = []\n",
        "        for i in range(len(self.df)):\n",
        "            a, p, n = self.form_triplet(i)\n",
        "           # triplets['anchors'].append(a[\"image\"])\n",
        "           # triplets['positive'].append(p[\"image\"])\n",
        "           # triplets['negative'].append(n[\"image\"])\n",
        "            anchors.append(a[\"image\"])\n",
        "            positive.append(p[\"image\"])\n",
        "            negative.append(n[\"image\"])\n",
        "            print(f\"Generated triplet {i+1} out of {len(self.df)}\")\n",
        "        #triplets_df = pd.DataFrame(triplets)\n",
        "        anchor_dataset = tf.data.Dataset.from_tensor_slices(anchor_images)\n",
        "        positive_dataset = tf.data.Dataset.from_tensor_slices(positive_images)\n",
        "        negative_dataset = tf.data.Dataset.from_tensor_slices(negative_images)\n",
        "        dataset = tf.data.Dataset.zip((anchor_dataset, positive_dataset, negative_dataset))\n",
        "        dataset = dataset.map(preprocess_triplets)\n",
        "\n",
        "        train_dataset = dataset.take(round(image_count * 0.8))\n",
        "        val_dataset = dataset.skip(round(image_count * 0.8))\n",
        "\n",
        "        train_dataset = train_dataset.batch(32, drop_remainder=False)\n",
        "        train_dataset = train_dataset.prefetch(8)\n",
        "\n",
        "        val_dataset = val_dataset.batch(32, drop_remainder=False)\n",
        "        val_dataset = val_dataset.prefetch(8)\n",
        "\n",
        "        self.train_df = train_dataset\n",
        "        self.val_df = val_dataset\n",
        "       # self.train_df, self.val_df = train_test_split(dataset, test_size=self.validation_split)\n",
        "            \n",
        "    def get_training_data(self):\n",
        "        if self.isEmpty:\n",
        "            self.generate_triplets()\n",
        "            self.isEmpty = False\n",
        "        return self.train_df\n",
        "    \n",
        "    def get_validation_data(self):\n",
        "        if self.isEmpty:\n",
        "            self.generate_triplets()\n",
        "            self.isEmpty = False\n",
        "        return self.val_df"
      ],
      "execution_count": null,
      "outputs": []
    },
    {
      "cell_type": "code",
      "metadata": {
        "id": "N4tbzarCK4_S"
      },
      "source": [
        "df_path = \"shopee-product-matching/train.csv\"\n",
        "img_dir = \"shopee-product-matching/train_images/\"\n",
        "\n",
        "dh = DatasetHandler(df_path, img_dir)\n",
        "train_data = dh.get_training_data()\n",
        "val_data = dh.get_validation_data()"
      ],
      "execution_count": null,
      "outputs": []
    },
    {
      "cell_type": "code",
      "metadata": {
        "id": "seZUlsa4-H0E"
      },
      "source": [
        "base_cnn = resnet.ResNet50(\n",
        "    weights=\"imagenet\", input_shape=target_shape + (3,), include_top=False\n",
        ")\n",
        "\n",
        "flatten = layers.Flatten()(base_cnn.output)\n",
        "dense1 = layers.Dense(512, activation=\"relu\")(flatten)\n",
        "dense1 = layers.BatchNormalization()(dense1)\n",
        "dense2 = layers.Dense(256, activation=\"relu\")(dense1)\n",
        "dense2 = layers.BatchNormalization()(dense2)\n",
        "output = layers.Dense(256)(dense2)\n",
        "\n",
        "embedding = Model(base_cnn.input, output, name=\"Embedding\")\n",
        "\n",
        "trainable = False\n",
        "for layer in base_cnn.layers:\n",
        "    if layer.name == \"conv5_block1_out\":\n",
        "        trainable = True\n",
        "    layer.trainable = trainable"
      ],
      "execution_count": 86,
      "outputs": []
    },
    {
      "cell_type": "code",
      "metadata": {
        "id": "DDdNOUnw-MO7"
      },
      "source": [
        "class DistanceLayer(layers.Layer):\n",
        "    \"\"\"\n",
        "    This layer is responsible for computing the distance between the anchor\n",
        "    embedding and the positive embedding, and the anchor embedding and the\n",
        "    negative embedding.\n",
        "    \"\"\"\n",
        "\n",
        "    def __init__(self, **kwargs):\n",
        "        super().__init__(**kwargs)\n",
        "\n",
        "    def call(self, anchor, positive, negative):\n",
        "        ap_distance = tf.reduce_sum(tf.square(anchor - positive), -1)\n",
        "        an_distance = tf.reduce_sum(tf.square(anchor - negative), -1)\n",
        "        return (ap_distance, an_distance)\n",
        "\n",
        "\n",
        "anchor_input = layers.Input(name=\"anchor\", shape=target_shape + (3,))\n",
        "positive_input = layers.Input(name=\"positive\", shape=target_shape + (3,))\n",
        "negative_input = layers.Input(name=\"negative\", shape=target_shape + (3,))\n",
        "\n",
        "distances = DistanceLayer()(\n",
        "    embedding(resnet.preprocess_input(anchor_input)),\n",
        "    embedding(resnet.preprocess_input(positive_input)),\n",
        "    embedding(resnet.preprocess_input(negative_input)),\n",
        ")\n",
        "\n",
        "siamese_network = Model(\n",
        "    inputs=[anchor_input, positive_input, negative_input], outputs=distances\n",
        ")"
      ],
      "execution_count": 87,
      "outputs": []
    },
    {
      "cell_type": "code",
      "metadata": {
        "id": "nyvHItau-PTI"
      },
      "source": [
        "class SiameseModel(Model):\n",
        "    \"\"\"The Siamese Network model with a custom training and testing loops.\n",
        "\n",
        "    Computes the triplet loss using the three embeddings produced by the\n",
        "    Siamese Network.\n",
        "\n",
        "    The triplet loss is defined as:\n",
        "       L(A, P, N) = max(‖f(A) - f(P)‖² - ‖f(A) - f(N)‖² + margin, 0)\n",
        "    \"\"\"\n",
        "\n",
        "    def __init__(self, siamese_network, margin=0.5):\n",
        "        super(SiameseModel, self).__init__()\n",
        "        self.siamese_network = siamese_network\n",
        "        self.margin = margin\n",
        "        self.loss_tracker = metrics.Mean(name=\"loss\")\n",
        "\n",
        "    def call(self, inputs):\n",
        "        return self.siamese_network(inputs)\n",
        "\n",
        "    def train_step(self, data):\n",
        "        # GradientTape is a context manager that records every operation that\n",
        "        # you do inside. We are using it here to compute the loss so we can get\n",
        "        # the gradients and apply them using the optimizer specified in\n",
        "        # `compile()`.\n",
        "        with tf.GradientTape() as tape:\n",
        "            loss = self._compute_loss(data)\n",
        "\n",
        "        # Storing the gradients of the loss function with respect to the\n",
        "        # weights/parameters.\n",
        "        gradients = tape.gradient(loss, self.siamese_network.trainable_weights)\n",
        "\n",
        "        # Applying the gradients on the model using the specified optimizer\n",
        "        self.optimizer.apply_gradients(\n",
        "            zip(gradients, self.siamese_network.trainable_weights)\n",
        "        )\n",
        "\n",
        "        # Let's update and return the training loss metric.\n",
        "        self.loss_tracker.update_state(loss)\n",
        "        return {\"loss\": self.loss_tracker.result()}\n",
        "\n",
        "    def test_step(self, data):\n",
        "        loss = self._compute_loss(data)\n",
        "\n",
        "        # Let's update and return the loss metric.\n",
        "        self.loss_tracker.update_state(loss)\n",
        "        return {\"loss\": self.loss_tracker.result()}\n",
        "\n",
        "    def _compute_loss(self, data):\n",
        "        # The output of the network is a tuple containing the distances\n",
        "        # between the anchor and the positive example, and the anchor and\n",
        "        # the negative example.\n",
        "        ap_distance, an_distance = self.siamese_network(data)\n",
        "\n",
        "        # Computing the Triplet Loss by subtracting both distances and\n",
        "        # making sure we don't get a negative value.\n",
        "        loss = ap_distance - an_distance\n",
        "        loss = tf.maximum(loss + self.margin, 0.0)\n",
        "        return loss\n",
        "\n",
        "    @property\n",
        "    def metrics(self):\n",
        "        # We need to list our metrics here so the `reset_states()` can be\n",
        "        # called automatically.\n",
        "        return [self.loss_tracker]\n"
      ],
      "execution_count": 88,
      "outputs": []
    },
    {
      "cell_type": "code",
      "metadata": {
        "colab": {
          "base_uri": "https://localhost:8080/",
          "height": 591
        },
        "id": "Fa1Dpu_y-RWc",
        "outputId": "a49efbf3-aba3-45ab-bab1-b9e706c906d8"
      },
      "source": [
        "siamese_model = SiameseModel(siamese_network)\n",
        "siamese_model.compile(optimizer=optimizers.Adam(0.0001))\n",
        "siamese_model.fit(train_data, epochs=10, validation_data=val_data)"
      ],
      "execution_count": 89,
      "outputs": [
        {
          "output_type": "stream",
          "text": [
            "Epoch 1/10\n",
            "680/680 [==============================] - 2358s 3s/step - loss: 0.3345 - val_loss: 0.2116\n",
            "Epoch 2/10\n",
            "680/680 [==============================] - 2297s 3s/step - loss: 0.1854 - val_loss: 0.1839\n",
            "Epoch 3/10\n",
            "680/680 [==============================] - 2289s 3s/step - loss: 0.1623 - val_loss: 0.1922\n",
            "Epoch 4/10\n",
            "680/680 [==============================] - 2284s 3s/step - loss: 0.1397 - val_loss: 0.1810\n",
            "Epoch 5/10\n",
            "680/680 [==============================] - 2306s 3s/step - loss: 0.1306 - val_loss: 0.1956\n",
            "Epoch 6/10\n",
            " 33/680 [>.............................] - ETA: 25:49 - loss: 0.1152"
          ],
          "name": "stdout"
        },
        {
          "output_type": "error",
          "ename": "KeyboardInterrupt",
          "evalue": "ignored",
          "traceback": [
            "\u001b[0;31m---------------------------------------------------------------------------\u001b[0m",
            "\u001b[0;31mKeyboardInterrupt\u001b[0m                         Traceback (most recent call last)",
            "\u001b[0;32m<ipython-input-89-0ad6c7aad262>\u001b[0m in \u001b[0;36m<module>\u001b[0;34m()\u001b[0m\n\u001b[1;32m      1\u001b[0m \u001b[0msiamese_model\u001b[0m \u001b[0;34m=\u001b[0m \u001b[0mSiameseModel\u001b[0m\u001b[0;34m(\u001b[0m\u001b[0msiamese_network\u001b[0m\u001b[0;34m)\u001b[0m\u001b[0;34m\u001b[0m\u001b[0;34m\u001b[0m\u001b[0m\n\u001b[1;32m      2\u001b[0m \u001b[0msiamese_model\u001b[0m\u001b[0;34m.\u001b[0m\u001b[0mcompile\u001b[0m\u001b[0;34m(\u001b[0m\u001b[0moptimizer\u001b[0m\u001b[0;34m=\u001b[0m\u001b[0moptimizers\u001b[0m\u001b[0;34m.\u001b[0m\u001b[0mAdam\u001b[0m\u001b[0;34m(\u001b[0m\u001b[0;36m0.0001\u001b[0m\u001b[0;34m)\u001b[0m\u001b[0;34m)\u001b[0m\u001b[0;34m\u001b[0m\u001b[0;34m\u001b[0m\u001b[0m\n\u001b[0;32m----> 3\u001b[0;31m \u001b[0msiamese_model\u001b[0m\u001b[0;34m.\u001b[0m\u001b[0mfit\u001b[0m\u001b[0;34m(\u001b[0m\u001b[0mtrain_data\u001b[0m\u001b[0;34m,\u001b[0m \u001b[0mepochs\u001b[0m\u001b[0;34m=\u001b[0m\u001b[0;36m10\u001b[0m\u001b[0;34m,\u001b[0m \u001b[0mvalidation_data\u001b[0m\u001b[0;34m=\u001b[0m\u001b[0mval_data\u001b[0m\u001b[0;34m)\u001b[0m\u001b[0;34m\u001b[0m\u001b[0;34m\u001b[0m\u001b[0m\n\u001b[0m",
            "\u001b[0;32m/usr/local/lib/python3.7/dist-packages/tensorflow/python/keras/engine/training.py\u001b[0m in \u001b[0;36mfit\u001b[0;34m(self, x, y, batch_size, epochs, verbose, callbacks, validation_split, validation_data, shuffle, class_weight, sample_weight, initial_epoch, steps_per_epoch, validation_steps, validation_batch_size, validation_freq, max_queue_size, workers, use_multiprocessing)\u001b[0m\n\u001b[1;32m   1181\u001b[0m                 _r=1):\n\u001b[1;32m   1182\u001b[0m               \u001b[0mcallbacks\u001b[0m\u001b[0;34m.\u001b[0m\u001b[0mon_train_batch_begin\u001b[0m\u001b[0;34m(\u001b[0m\u001b[0mstep\u001b[0m\u001b[0;34m)\u001b[0m\u001b[0;34m\u001b[0m\u001b[0;34m\u001b[0m\u001b[0m\n\u001b[0;32m-> 1183\u001b[0;31m               \u001b[0mtmp_logs\u001b[0m \u001b[0;34m=\u001b[0m \u001b[0mself\u001b[0m\u001b[0;34m.\u001b[0m\u001b[0mtrain_function\u001b[0m\u001b[0;34m(\u001b[0m\u001b[0miterator\u001b[0m\u001b[0;34m)\u001b[0m\u001b[0;34m\u001b[0m\u001b[0;34m\u001b[0m\u001b[0m\n\u001b[0m\u001b[1;32m   1184\u001b[0m               \u001b[0;32mif\u001b[0m \u001b[0mdata_handler\u001b[0m\u001b[0;34m.\u001b[0m\u001b[0mshould_sync\u001b[0m\u001b[0;34m:\u001b[0m\u001b[0;34m\u001b[0m\u001b[0;34m\u001b[0m\u001b[0m\n\u001b[1;32m   1185\u001b[0m                 \u001b[0mcontext\u001b[0m\u001b[0;34m.\u001b[0m\u001b[0masync_wait\u001b[0m\u001b[0;34m(\u001b[0m\u001b[0;34m)\u001b[0m\u001b[0;34m\u001b[0m\u001b[0;34m\u001b[0m\u001b[0m\n",
            "\u001b[0;32m/usr/local/lib/python3.7/dist-packages/tensorflow/python/eager/def_function.py\u001b[0m in \u001b[0;36m__call__\u001b[0;34m(self, *args, **kwds)\u001b[0m\n\u001b[1;32m    887\u001b[0m \u001b[0;34m\u001b[0m\u001b[0m\n\u001b[1;32m    888\u001b[0m       \u001b[0;32mwith\u001b[0m \u001b[0mOptionalXlaContext\u001b[0m\u001b[0;34m(\u001b[0m\u001b[0mself\u001b[0m\u001b[0;34m.\u001b[0m\u001b[0m_jit_compile\u001b[0m\u001b[0;34m)\u001b[0m\u001b[0;34m:\u001b[0m\u001b[0;34m\u001b[0m\u001b[0;34m\u001b[0m\u001b[0m\n\u001b[0;32m--> 889\u001b[0;31m         \u001b[0mresult\u001b[0m \u001b[0;34m=\u001b[0m \u001b[0mself\u001b[0m\u001b[0;34m.\u001b[0m\u001b[0m_call\u001b[0m\u001b[0;34m(\u001b[0m\u001b[0;34m*\u001b[0m\u001b[0margs\u001b[0m\u001b[0;34m,\u001b[0m \u001b[0;34m**\u001b[0m\u001b[0mkwds\u001b[0m\u001b[0;34m)\u001b[0m\u001b[0;34m\u001b[0m\u001b[0;34m\u001b[0m\u001b[0m\n\u001b[0m\u001b[1;32m    890\u001b[0m \u001b[0;34m\u001b[0m\u001b[0m\n\u001b[1;32m    891\u001b[0m       \u001b[0mnew_tracing_count\u001b[0m \u001b[0;34m=\u001b[0m \u001b[0mself\u001b[0m\u001b[0;34m.\u001b[0m\u001b[0mexperimental_get_tracing_count\u001b[0m\u001b[0;34m(\u001b[0m\u001b[0;34m)\u001b[0m\u001b[0;34m\u001b[0m\u001b[0;34m\u001b[0m\u001b[0m\n",
            "\u001b[0;32m/usr/local/lib/python3.7/dist-packages/tensorflow/python/eager/def_function.py\u001b[0m in \u001b[0;36m_call\u001b[0;34m(self, *args, **kwds)\u001b[0m\n\u001b[1;32m    915\u001b[0m       \u001b[0;31m# In this case we have created variables on the first call, so we run the\u001b[0m\u001b[0;34m\u001b[0m\u001b[0;34m\u001b[0m\u001b[0;34m\u001b[0m\u001b[0m\n\u001b[1;32m    916\u001b[0m       \u001b[0;31m# defunned version which is guaranteed to never create variables.\u001b[0m\u001b[0;34m\u001b[0m\u001b[0;34m\u001b[0m\u001b[0;34m\u001b[0m\u001b[0m\n\u001b[0;32m--> 917\u001b[0;31m       \u001b[0;32mreturn\u001b[0m \u001b[0mself\u001b[0m\u001b[0;34m.\u001b[0m\u001b[0m_stateless_fn\u001b[0m\u001b[0;34m(\u001b[0m\u001b[0;34m*\u001b[0m\u001b[0margs\u001b[0m\u001b[0;34m,\u001b[0m \u001b[0;34m**\u001b[0m\u001b[0mkwds\u001b[0m\u001b[0;34m)\u001b[0m  \u001b[0;31m# pylint: disable=not-callable\u001b[0m\u001b[0;34m\u001b[0m\u001b[0;34m\u001b[0m\u001b[0m\n\u001b[0m\u001b[1;32m    918\u001b[0m     \u001b[0;32melif\u001b[0m \u001b[0mself\u001b[0m\u001b[0;34m.\u001b[0m\u001b[0m_stateful_fn\u001b[0m \u001b[0;32mis\u001b[0m \u001b[0;32mnot\u001b[0m \u001b[0;32mNone\u001b[0m\u001b[0;34m:\u001b[0m\u001b[0;34m\u001b[0m\u001b[0;34m\u001b[0m\u001b[0m\n\u001b[1;32m    919\u001b[0m       \u001b[0;31m# Release the lock early so that multiple threads can perform the call\u001b[0m\u001b[0;34m\u001b[0m\u001b[0;34m\u001b[0m\u001b[0;34m\u001b[0m\u001b[0m\n",
            "\u001b[0;32m/usr/local/lib/python3.7/dist-packages/tensorflow/python/eager/function.py\u001b[0m in \u001b[0;36m__call__\u001b[0;34m(self, *args, **kwargs)\u001b[0m\n\u001b[1;32m   3022\u001b[0m        filtered_flat_args) = self._maybe_define_function(args, kwargs)\n\u001b[1;32m   3023\u001b[0m     return graph_function._call_flat(\n\u001b[0;32m-> 3024\u001b[0;31m         filtered_flat_args, captured_inputs=graph_function.captured_inputs)  # pylint: disable=protected-access\n\u001b[0m\u001b[1;32m   3025\u001b[0m \u001b[0;34m\u001b[0m\u001b[0m\n\u001b[1;32m   3026\u001b[0m   \u001b[0;34m@\u001b[0m\u001b[0mproperty\u001b[0m\u001b[0;34m\u001b[0m\u001b[0;34m\u001b[0m\u001b[0m\n",
            "\u001b[0;32m/usr/local/lib/python3.7/dist-packages/tensorflow/python/eager/function.py\u001b[0m in \u001b[0;36m_call_flat\u001b[0;34m(self, args, captured_inputs, cancellation_manager)\u001b[0m\n\u001b[1;32m   1959\u001b[0m       \u001b[0;31m# No tape is watching; skip to running the function.\u001b[0m\u001b[0;34m\u001b[0m\u001b[0;34m\u001b[0m\u001b[0;34m\u001b[0m\u001b[0m\n\u001b[1;32m   1960\u001b[0m       return self._build_call_outputs(self._inference_function.call(\n\u001b[0;32m-> 1961\u001b[0;31m           ctx, args, cancellation_manager=cancellation_manager))\n\u001b[0m\u001b[1;32m   1962\u001b[0m     forward_backward = self._select_forward_and_backward_functions(\n\u001b[1;32m   1963\u001b[0m         \u001b[0margs\u001b[0m\u001b[0;34m,\u001b[0m\u001b[0;34m\u001b[0m\u001b[0;34m\u001b[0m\u001b[0m\n",
            "\u001b[0;32m/usr/local/lib/python3.7/dist-packages/tensorflow/python/eager/function.py\u001b[0m in \u001b[0;36mcall\u001b[0;34m(self, ctx, args, cancellation_manager)\u001b[0m\n\u001b[1;32m    594\u001b[0m               \u001b[0minputs\u001b[0m\u001b[0;34m=\u001b[0m\u001b[0margs\u001b[0m\u001b[0;34m,\u001b[0m\u001b[0;34m\u001b[0m\u001b[0;34m\u001b[0m\u001b[0m\n\u001b[1;32m    595\u001b[0m               \u001b[0mattrs\u001b[0m\u001b[0;34m=\u001b[0m\u001b[0mattrs\u001b[0m\u001b[0;34m,\u001b[0m\u001b[0;34m\u001b[0m\u001b[0;34m\u001b[0m\u001b[0m\n\u001b[0;32m--> 596\u001b[0;31m               ctx=ctx)\n\u001b[0m\u001b[1;32m    597\u001b[0m         \u001b[0;32melse\u001b[0m\u001b[0;34m:\u001b[0m\u001b[0;34m\u001b[0m\u001b[0;34m\u001b[0m\u001b[0m\n\u001b[1;32m    598\u001b[0m           outputs = execute.execute_with_cancellation(\n",
            "\u001b[0;32m/usr/local/lib/python3.7/dist-packages/tensorflow/python/eager/execute.py\u001b[0m in \u001b[0;36mquick_execute\u001b[0;34m(op_name, num_outputs, inputs, attrs, ctx, name)\u001b[0m\n\u001b[1;32m     58\u001b[0m     \u001b[0mctx\u001b[0m\u001b[0;34m.\u001b[0m\u001b[0mensure_initialized\u001b[0m\u001b[0;34m(\u001b[0m\u001b[0;34m)\u001b[0m\u001b[0;34m\u001b[0m\u001b[0;34m\u001b[0m\u001b[0m\n\u001b[1;32m     59\u001b[0m     tensors = pywrap_tfe.TFE_Py_Execute(ctx._handle, device_name, op_name,\n\u001b[0;32m---> 60\u001b[0;31m                                         inputs, attrs, num_outputs)\n\u001b[0m\u001b[1;32m     61\u001b[0m   \u001b[0;32mexcept\u001b[0m \u001b[0mcore\u001b[0m\u001b[0;34m.\u001b[0m\u001b[0m_NotOkStatusException\u001b[0m \u001b[0;32mas\u001b[0m \u001b[0me\u001b[0m\u001b[0;34m:\u001b[0m\u001b[0;34m\u001b[0m\u001b[0;34m\u001b[0m\u001b[0m\n\u001b[1;32m     62\u001b[0m     \u001b[0;32mif\u001b[0m \u001b[0mname\u001b[0m \u001b[0;32mis\u001b[0m \u001b[0;32mnot\u001b[0m \u001b[0;32mNone\u001b[0m\u001b[0;34m:\u001b[0m\u001b[0;34m\u001b[0m\u001b[0;34m\u001b[0m\u001b[0m\n",
            "\u001b[0;31mKeyboardInterrupt\u001b[0m: "
          ]
        }
      ]
    }
  ]
}