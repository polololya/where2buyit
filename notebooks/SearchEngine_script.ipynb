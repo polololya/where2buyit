{
  "nbformat": 4,
  "nbformat_minor": 0,
  "metadata": {
    "colab": {
      "name": "SearchEngine_script.ipynb",
      "provenance": [],
      "collapsed_sections": []
    },
    "kernelspec": {
      "name": "python3",
      "display_name": "Python 3"
    },
    "language_info": {
      "name": "python"
    }
  },
  "cells": [
    {
      "cell_type": "code",
      "metadata": {
        "id": "Xq_i6RgrSovp"
      },
      "source": [
        "! git clone https://github.com/polololya/where2buyit.git\n"
      ],
      "execution_count": null,
      "outputs": []
    },
    {
      "cell_type": "code",
      "metadata": {
        "id": "TzGigozLTSxJ"
      },
      "source": [
        "from where2buyit.src.SearchEngine import *\n",
        "from where2buyit.src.Model import *\n",
        "from where2buyit.src.DatasetHandler import *"
      ],
      "execution_count": 6,
      "outputs": []
    },
    {
      "cell_type": "code",
      "metadata": {
        "id": "Q_iJlgQ4Vi_4"
      },
      "source": [
        "def search (img_path, K, emb_size):\n",
        "  ret=tf.Variable(img_path,dtype=tf.string)\n",
        "  im=dataset_handler.preprocess_image(ret)\n",
        "  target = pd.DataFrame(test_model.embedding(tf.expand_dims(im, axis=0)).numpy()),ignore_index=True)\n",
        "\n",
        "  pf=pd.read_parquet('parquett',engine='fastparquet')\n",
        "  dataset=pf.iloc[:,:emb_size]\n",
        "\n",
        "  similarityK=SimilarItem(target, dataset,K)\n",
        "  similarityK=similarityK.join(pf.iloc[similarityK.index,emb_size:])\n",
        "\n",
        "  similar_visual(similarityK,'img_path')"
      ],
      "execution_count": 7,
      "outputs": []
    }
  ]
}