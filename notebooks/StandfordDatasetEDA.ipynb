{
 "nbformat": 4,
 "nbformat_minor": 0,
 "metadata": {
  "kernelspec": {
   "name": "python3",
   "language": "python",
   "display_name": "Python 3"
  },
  "language_info": {
   "codemirror_mode": {
    "name": "ipython",
    "version": 2
   },
   "file_extension": ".py",
   "mimetype": "text/x-python",
   "name": "python",
   "nbconvert_exporter": "python",
   "pygments_lexer": "ipython2",
   "version": "2.7.6"
  },
  "colab": {
   "name": "StandfordDatasetEDA.ipynb",
   "provenance": [],
   "collapsed_sections": []
  },
  "accelerator": "GPU"
 },
 "cells": [
  {
   "cell_type": "code",
   "execution_count": null,
   "outputs": [],
   "source": [
    "import pandas as pd\n",
    "import numpy as np\n",
    "import cv2\n",
    "from sklearn.model_selection import train_test_split\n",
    "import tensorflow as tf\n",
    "from matplotlib import pyplot as plt"
   ],
   "metadata": {
    "collapsed": false,
    "pycharm": {
     "name": "#%%\n"
    }
   }
  },
  {
   "cell_type": "code",
   "metadata": {
    "pycharm": {
     "name": "#%%\n"
    },
    "id": "oV1cXJ6YVC-5"
   },
   "source": [
    "DATASET_PATH = '../Data/Stanford_Online_Products/'\n",
    "TRAIN_FILE = 'Ebay_train.txt'\n",
    "TEST_FILE = 'Ebay_test.txt'"
   ],
   "execution_count": null,
   "outputs": []
  },
  {
   "cell_type": "code",
   "metadata": {
    "pycharm": {
     "name": "#%%\n"
    },
    "colab": {
     "base_uri": "https://localhost:8080/",
     "height": 391
    },
    "id": "9lnHXBltVC-8",
    "outputId": "370e1772-81c5-4bb8-b743-bcbf90c28291"
   },
   "source": [
    "df_train = pd.read_csv(f'{DATASET_PATH}{TEST_FILE}', sep=' ')\n",
    "df_train.head()"
   ],
   "execution_count": null,
   "outputs": []
  },
  {
   "cell_type": "code",
   "metadata": {
    "pycharm": {
     "name": "#%%\n"
    },
    "id": "PcjBPLK8VC-8",
    "outputId": "902525d9-1a02-4ec3-d7d3-dc396d4fdc3d"
   },
   "source": [
    "df_train.info()"
   ],
   "execution_count": null,
   "outputs": []
  },
  {
   "cell_type": "code",
   "metadata": {
    "pycharm": {
     "name": "#%%\n"
    },
    "id": "VBgYHgcrVC-9",
    "outputId": "31b19fff-554e-442d-c538-2067a881ace4"
   },
   "source": [
    "from random import choice\n",
    "\n",
    "super_classes = df_train.super_class_id.unique()\n",
    "\n",
    "fig, axes = plt.subplots(nrows=12, ncols=4, figsize=(15, 50))\n",
    "for ax in range(len(super_classes)):\n",
    "    super_class = super_classes[ax]\n",
    "    for img in range(4):\n",
    "        img_class_paths = df_train.loc[df_train.super_class_id == super_class, 'path'].values\n",
    "        img_class_path = choice(img_class_paths)\n",
    "        class_img = df_train.loc[df_train.path == img_class_path, 'class_id']\n",
    "        img_class_full_path = f'{DATASET_PATH}{img_class_path}'\n",
    "        img_class = cv2.cvtColor(cv2.imread(img_class_full_path), cv2.COLOR_BGR2RGB)\n",
    "        axes[ax, img].set_title(f'Класс изображения {class_img.values[0]}')\n",
    "        axes[ax, img].imshow(img_class)"
   ],
   "execution_count": null,
   "outputs": []
  },
  {
   "cell_type": "markdown",
   "metadata": {
    "collapsed": false,
    "pycharm": {
     "name": "#%% md\n"
    },
    "id": "nUIWMXpMVC--"
   },
   "source": [
    "Data Handler для Стэндфорского датасета\n"
   ]
  },
  {
   "cell_type": "code",
   "metadata": {
    "pycharm": {
     "name": "#%%\n"
    },
    "id": "DMR1wZEnVC-_"
   },
   "source": [
    "from random import sample\n",
    "from tqdm import tqdm\n",
    "\n",
    "\n",
    "class DatasetHandler:\n",
    "\n",
    "    def __init__(self, train_path: str, test_path: str,\n",
    "                 train_part: float = 1., test_part: float = 1.,\n",
    "                 batch_size=64,\n",
    "                 target_shape=(400, 400)):\n",
    "        self.__target_shape = target_shape\n",
    "\n",
    "        full_train_data = pd.read_csv(train_path, sep=' ')\n",
    "        full_test_data = pd.read_csv(test_path, sep=' ')\n",
    "\n",
    "        part_train_data_indexes = list(full_train_data.index)\n",
    "        part_test_data_indexes = list(full_test_data.index)\n",
    "\n",
    "        len_train_part = int(train_part * len(part_train_data_indexes))\n",
    "        len_test_part = int(test_part * len(part_test_data_indexes))\n",
    "\n",
    "        train_source = full_train_data.loc[sample(part_train_data_indexes, len_train_part)]\n",
    "        test_source = full_test_data.loc[sample(part_test_data_indexes, len_test_part)]\n",
    "\n",
    "        del full_train_data, full_test_data\n",
    "\n",
    "        # Train/test triplets\n",
    "\n",
    "        tqdm.write(f'Train generating')\n",
    "        train_triplets = self.__generate_triplets(train_source)\n",
    "        self.__train_dataset = self.__seal_dataset(train_triplets)\n",
    "        self.__train_dataset = self.__train_dataset.batch(batch_size).prefetch(2)\n",
    "        tqdm.write(f'Test generating')\n",
    "        test_triplets = self.__generate_triplets(test_source)\n",
    "        self.__test_dataset = self.__seal_dataset(test_triplets)\n",
    "        self.__test_dataset = self.__test_dataset.batch(batch_size).prefetch(2)\n",
    "\n",
    "\n",
    "    def __form_triplet(self, ind: int, data: pd.DataFrame):\n",
    "        anchor = data.iloc[ind]\n",
    "        similar_indexes = data.loc[(data.class_id == anchor.class_id) & (data.image_id != anchor.image_id)].index\n",
    "        if len(similar_indexes) == 0:\n",
    "            similar_indexes = data.loc[(data.super_class_id == anchor.super_class_id)].index\n",
    "        positive = data.loc[choice(similar_indexes)]\n",
    "        different_indexes = data.drop(index=data.loc[data.class_id == anchor.class_id].index).index\n",
    "        negative = data.loc[choice(different_indexes)]\n",
    "\n",
    "        return anchor, positive, negative\n",
    "\n",
    "\n",
    "    def __generate_triplets(self, data: pd.DataFrame):\n",
    "        triplets = {'anchors': [], 'positive': [], 'negative': []}\n",
    "        for i in tqdm(range(data.shape[0])):\n",
    "            anchor, positive, negative = self.__form_triplet(i, data)\n",
    "            triplets['anchors'].append(f'{DATASET_PATH}{anchor[\"path\"]}')\n",
    "            triplets['positive'].append(f'{DATASET_PATH}{positive[\"path\"]}')\n",
    "            triplets['negative'].append(f'{DATASET_PATH}{negative[\"path\"]}')\n",
    "        return triplets\n",
    "\n",
    "\n",
    "    def __seal_dataset(self, data: dict):\n",
    "        anchor_dataset = tf.data.Dataset.from_tensor_slices(data['anchors'])\n",
    "        positive_dataset = tf.data.Dataset.from_tensor_slices(data['positive'])\n",
    "        negative_dataset = tf.data.Dataset.from_tensor_slices(data['negative'])\n",
    "\n",
    "        triplets_path_dataset = tf.data.Dataset.zip((anchor_dataset, positive_dataset, negative_dataset))\n",
    "        triplets_images_dataset = triplets_path_dataset.map(self.__preprocess_triplets)\n",
    "\n",
    "        return triplets_images_dataset\n",
    "\n",
    "\n",
    "    def __preprocess_image(sekf, filename: tf.Tensor):\n",
    "        \"\"\"\n",
    "        Load the specified file as a JPEG image, preprocess it and\n",
    "        resize it to the target shape.\n",
    "            \"\"\"\n",
    "\n",
    "\n",
    "        image_string = tf.io.read_file(filename)\n",
    "        image = tf.image.decode_jpeg(image_string, channels=3)\n",
    "        image = tf.image.convert_image_dtype(image, tf.float32)\n",
    "        image = tf.image.resize(image, (400, 400))\n",
    "\n",
    "        return image\n",
    "\n",
    "\n",
    "    @tf.autograph.experimental.do_not_convert\n",
    "    def __preprocess_triplets(self, anchor, positive, negative):\n",
    "        \"\"\"\n",
    "        Given the filenames corresponding to the three images, load and\n",
    "        preprocess them.\n",
    "        \"\"\"\n",
    "\n",
    "        return (\n",
    "            self.__preprocess_image(anchor),\n",
    "            self.__preprocess_image(positive),\n",
    "            self.__preprocess_image(negative),\n",
    "        )\n",
    "\n",
    "\n",
    "    def get_target_shape(self):\n",
    "        return self.__target_shape\n",
    "\n",
    "    def get_training_data(self):\n",
    "        return self.__train_dataset\n",
    "\n",
    "    def get_validation_data(self):\n",
    "        return self.__test_dataset"
   ],
   "execution_count": null,
   "outputs": []
  },
  {
   "cell_type": "code",
   "metadata": {
    "pycharm": {
     "name": "#%%\n"
    },
    "id": "vRRz85J_VC_B",
    "outputId": "cc2c2bdf-612e-4219-fa39-75a45174ed2b"
   },
   "source": [
    "data_handler = DatasetHandler(train_path=f'{DATASET_PATH}{TRAIN_FILE}', train_part=0.2,\n",
    "                              test_path=f'{DATASET_PATH}{TEST_FILE}', test_part=0.05)"
   ],
   "execution_count": null,
   "outputs": []
  },
  {
   "cell_type": "code",
   "metadata": {
    "pycharm": {
     "name": "#%%\n"
    },
    "id": "e3MLZKj_VC_C"
   },
   "source": [
    "train = data_handler.get_training_data()\n",
    "test = data_handler.get_validation_data()"
   ],
   "execution_count": null,
   "outputs": []
  },
  {
   "cell_type": "code",
   "metadata": {
    "pycharm": {
     "name": "#%%\n"
    },
    "id": "OZTDCM-BVC_C",
    "outputId": "ae5874a5-ab75-4eb4-aab2-ea87d677514e"
   },
   "source": [
    "from random import randint\n",
    "a, p, n = next(iter(train))\n",
    "\n",
    "\n",
    "fig, axes = plt.subplots(5, 3, figsize=(10, 18))\n",
    "for i in range(5):\n",
    "    img = randint(0, 31)\n",
    "    axes[i, 0].set_title('Anchor')\n",
    "    axes[i, 0].imshow(a[img].numpy())\n",
    "    axes[i, 1].set_title('Positive')\n",
    "    axes[i, 1].imshow(p[img].numpy())\n",
    "    axes[i, 2].set_title('Negative')\n",
    "    axes[i, 2].imshow(n[img].numpy())"
   ],
   "execution_count": null,
   "outputs": []
  },
  {
   "cell_type": "markdown",
   "metadata": {
    "collapsed": false,
    "pycharm": {
     "name": "#%% md\n"
    },
    "id": "iKqtBGjRVC_D"
   },
   "source": [
    "Построим Siamese Model"
   ]
  },
  {
   "cell_type": "code",
   "metadata": {
    "pycharm": {
     "name": "#%%\n"
    },
    "id": "bJxl6sXrVC_D"
   },
   "source": [
    "from tensorflow.keras import layers\n",
    "from tensorflow.keras import losses\n",
    "from tensorflow.keras import optimizers\n",
    "from tensorflow.keras import metrics\n",
    "from tensorflow.keras import Model\n",
    "from tensorflow.keras.applications import resnet"
   ],
   "execution_count": null,
   "outputs": []
  },
  {
   "cell_type": "code",
   "metadata": {
    "pycharm": {
     "name": "#%%\n"
    },
    "id": "E3jkcjXLVC_E"
   },
   "source": [
    "base_cnn = resnet.ResNet50(\n",
    "    weights=\"imagenet\", input_shape=data_handler.get_target_shape() + (3,), include_top=False\n",
    ")\n",
    "\n",
    "flatten = layers.Flatten()(base_cnn.output)\n",
    "dense1 = layers.Dense(512, activation=\"relu\")(flatten)\n",
    "dense1 = layers.BatchNormalization()(dense1)\n",
    "dense2 = layers.Dense(256, activation=\"relu\")(dense1)\n",
    "dense2 = layers.BatchNormalization()(dense2)\n",
    "output = layers.Dense(256)(dense2)\n",
    "\n",
    "embedding = Model(base_cnn.input, output, name=\"Embedding\")\n",
    "\n",
    "trainable = False\n",
    "for layer in base_cnn.layers:\n",
    "    if layer.name == \"conv5_block1_out\":\n",
    "        trainable = True\n",
    "    layer.trainable = trainable"
   ],
   "execution_count": null,
   "outputs": []
  },
  {
   "cell_type": "code",
   "metadata": {
    "pycharm": {
     "name": "#%%\n"
    },
    "id": "VNSSh5rYVC_E"
   },
   "source": [
    "\n",
    "class DistanceLayer(layers.Layer):\n",
    "    \"\"\"\n",
    "    This layer is responsible for computing the distance between the anchor\n",
    "    embedding and the positive embedding, and the anchor embedding and the\n",
    "    negative embedding.\n",
    "    \"\"\"\n",
    "\n",
    "    def __init__(self, **kwargs):\n",
    "        super().__init__(**kwargs)\n",
    "\n",
    "    def call(self, anchor, positive, negative):\n",
    "        ap_distance = tf.reduce_sum(tf.square(anchor - positive), -1)\n",
    "        an_distance = tf.reduce_sum(tf.square(anchor - negative), -1)\n",
    "        return (ap_distance, an_distance)\n",
    "\n",
    "\n",
    "anchor_input = layers.Input(name=\"anchor\", shape=data_handler.get_target_shape() + (3,))\n",
    "positive_input = layers.Input(name=\"positive\", shape=data_handler.get_target_shape() + (3,))\n",
    "negative_input = layers.Input(name=\"negative\", shape=data_handler.get_target_shape() + (3,))\n",
    "\n",
    "distances = DistanceLayer()(\n",
    "    embedding(resnet.preprocess_input(anchor_input)),\n",
    "    embedding(resnet.preprocess_input(positive_input)),\n",
    "    embedding(resnet.preprocess_input(negative_input)),\n",
    ")\n",
    "\n",
    "siamese_network = Model(\n",
    "    inputs=[anchor_input, positive_input, negative_input], outputs=distances\n",
    ")"
   ],
   "execution_count": null,
   "outputs": []
  },
  {
   "cell_type": "code",
   "metadata": {
    "pycharm": {
     "name": "#%%\n"
    },
    "id": "C5u-OL_SVC_F"
   },
   "source": [
    "\n",
    "class SiameseModel(Model):\n",
    "    \"\"\"The Siamese Network model with a custom training and testing loops.\n",
    "\n",
    "    Computes the triplet loss using the three embeddings produced by the\n",
    "    Siamese Network.\n",
    "\n",
    "    The triplet loss is defined as:\n",
    "       L(A, P, N) = max(‖f(A) - f(P)‖² - ‖f(A) - f(N)‖² + margin, 0)\n",
    "    \"\"\"\n",
    "\n",
    "    def __init__(self, siamese_network, margin=0.5):\n",
    "        super(SiameseModel, self).__init__()\n",
    "        self.siamese_network = siamese_network\n",
    "        self.margin = margin\n",
    "        self.loss_tracker = metrics.Mean(name=\"loss\")\n",
    "\n",
    "    def call(self, inputs):\n",
    "        return self.siamese_network(inputs)\n",
    "\n",
    "    def train_step(self, data):\n",
    "        # GradientTape is a context manager that records every operation that\n",
    "        # you do inside. We are using it here to compute the loss so we can get\n",
    "        # the gradients and apply them using the optimizer specified in\n",
    "        # `compile()`.\n",
    "        with tf.GradientTape() as tape:\n",
    "            loss = self._compute_loss(data)\n",
    "\n",
    "        # Storing the gradients of the loss function with respect to the\n",
    "        # weights/parameters.\n",
    "        gradients = tape.gradient(loss, self.siamese_network.trainable_weights)\n",
    "\n",
    "        # Applying the gradients on the model using the specified optimizer\n",
    "        self.optimizer.apply_gradients(\n",
    "            zip(gradients, self.siamese_network.trainable_weights)\n",
    "        )\n",
    "\n",
    "        # Let's update and return the training loss metric.\n",
    "        self.loss_tracker.update_state(loss)\n",
    "        return {\"loss\": self.loss_tracker.result()}\n",
    "\n",
    "    def test_step(self, data):\n",
    "        loss = self._compute_loss(data)\n",
    "\n",
    "        # Let's update and return the loss metric.\n",
    "        self.loss_tracker.update_state(loss)\n",
    "        return {\"loss\": self.loss_tracker.result()}\n",
    "\n",
    "    def _compute_loss(self, data):\n",
    "        # The output of the network is a tuple containing the distances\n",
    "        # between the anchor and the positive example, and the anchor and\n",
    "        # the negative example.\n",
    "        ap_distance, an_distance = self.siamese_network(data)\n",
    "\n",
    "        # Computing the Triplet Loss by subtracting both distances and\n",
    "        # making sure we don't get a negative value.\n",
    "        loss = ap_distance - an_distance\n",
    "        loss = tf.maximum(loss + self.margin, 0.0)\n",
    "        return loss\n",
    "\n",
    "    @property\n",
    "    def metrics(self):\n",
    "        # We need to list our metrics here so the `reset_states()` can be\n",
    "        # called automatically.\n",
    "        return [self.loss_tracker]\n"
   ],
   "execution_count": null,
   "outputs": []
  },
  {
   "cell_type": "code",
   "metadata": {
    "pycharm": {
     "name": "#%%\n"
    },
    "id": "Lrpe4eXzVC_G",
    "outputId": "2b944075-6fa8-4573-df6e-1e387ca75ecb"
   },
   "source": [
    "\n",
    "siamese_model = SiameseModel(siamese_network)\n",
    "siamese_model.compile(optimizer=optimizers.Adam(0.001))\n",
    "siamese_model.fit(train, epochs=10, validation_data=test)\n"
   ],
   "execution_count": null,
   "outputs": []
  }
 ]
}